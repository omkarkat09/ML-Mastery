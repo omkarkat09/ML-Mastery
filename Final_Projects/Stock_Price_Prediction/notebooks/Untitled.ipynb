{
 "cells": [
  {
   "cell_type": "markdown",
   "id": "ace89566-0751-4716-927d-ce2322420ff1",
   "metadata": {},
   "source": [
    " Data Collection (Stock Prices + News Sentiment Analysis)\n",
    " \n",
    "  1. Stock Price Data (Yahoo Finance API)\n",
    "  We’ll use yfinance to collect historical stock prices (Open, High, Low, Close, Volume)."
   ]
  },
  {
   "cell_type": "code",
   "execution_count": 17,
   "id": "7340b759-2ac7-4901-9843-435b7f11b9a5",
   "metadata": {},
   "outputs": [
    {
     "name": "stderr",
     "output_type": "stream",
     "text": [
      "[*********************100%***********************]  1 of 1 completed"
     ]
    },
    {
     "name": "stdout",
     "output_type": "stream",
     "text": [
      "Stock data saved successfully!\n",
      "Price           Close       High        Low       Open    Volume\n",
      "Ticker            CMC        CMC        CMC        CMC       CMC\n",
      "Date                                                            \n",
      "2020-01-02  20.491957  20.812860  20.326921  20.812860   1901200\n",
      "2020-01-03  20.336090  20.620318  19.960175  19.969344   3358000\n",
      "2020-01-06  20.281076  22.041459  19.620932  21.839748  10063900\n",
      "2020-01-07  20.767017  20.950391  20.106874  20.161886   3669600\n",
      "2020-01-08  21.243788  21.463835  20.812861  20.858704   3258900\n"
     ]
    },
    {
     "name": "stderr",
     "output_type": "stream",
     "text": [
      "\n"
     ]
    }
   ],
   "source": [
    "import yfinance as yf\n",
    "import pandas as pd\n",
    "\n",
    "# Choose a stock \n",
    "ticker = \"CMC\"  \n",
    "\n",
    "# Fetch historical stock data\n",
    "stock_data = yf.download(ticker, start=\"2020-01-01\", end=\"2024-01-01\")\n",
    "\n",
    "# Save as CSV\n",
    "stock_data.to_csv(\"C:/Users/dell/Documents/GitHub/ML-Mastery/Final_Projects/Stock_Price_Prediction/data/stock_prices.csv\")\n",
    "print(\"Stock data saved successfully!\")\n",
    "\n",
    "# Preview data\n",
    "print(stock_data.head())\n",
    "\n"
   ]
  },
  {
   "cell_type": "markdown",
   "id": "5ba6948a-d4e6-4629-ad0b-55ea553471b2",
   "metadata": {},
   "source": [
    " 2. Financial News Data (NewsAPI.org)\n",
    " News headlines affect stock prices! We'll fetch financial news and apply Sentiment Analysis."
   ]
  },
  {
   "cell_type": "code",
   "execution_count": 18,
   "id": "ddd6b965-7671-4c41-8c90-446f2966eebc",
   "metadata": {},
   "outputs": [
    {
     "ename": "ImportError",
     "evalue": "cannot import name 'NewsApiClient' from 'newsapi' (C:\\Users\\dell\\AppData\\Local\\Programs\\Python\\Python311\\Lib\\site-packages\\newsapi\\__init__.py)",
     "output_type": "error",
     "traceback": [
      "\u001b[1;31m---------------------------------------------------------------------------\u001b[0m",
      "\u001b[1;31mImportError\u001b[0m                               Traceback (most recent call last)",
      "Cell \u001b[1;32mIn[18], line 1\u001b[0m\n\u001b[1;32m----> 1\u001b[0m \u001b[38;5;28;01mfrom\u001b[39;00m\u001b[38;5;250m \u001b[39m\u001b[38;5;21;01mnewsapi\u001b[39;00m\u001b[38;5;250m \u001b[39m\u001b[38;5;28;01mimport\u001b[39;00m NewsApiClient\n\u001b[0;32m      2\u001b[0m \u001b[38;5;28;01mimport\u001b[39;00m\u001b[38;5;250m \u001b[39m\u001b[38;5;21;01mpandas\u001b[39;00m\u001b[38;5;250m \u001b[39m\u001b[38;5;28;01mas\u001b[39;00m\u001b[38;5;250m \u001b[39m\u001b[38;5;21;01mpd\u001b[39;00m\n\u001b[0;32m      4\u001b[0m \u001b[38;5;66;03m# Initialize News API Client\u001b[39;00m\n",
      "\u001b[1;31mImportError\u001b[0m: cannot import name 'NewsApiClient' from 'newsapi' (C:\\Users\\dell\\AppData\\Local\\Programs\\Python\\Python311\\Lib\\site-packages\\newsapi\\__init__.py)"
     ]
    }
   ],
   "source": [
    "from newsapi import NewsApiClient\n",
    "import pandas as pd\n",
    "\n",
    "# Initialize News API Client\n",
    "newsapi = NewsApiClient(api_key=\"e96684bf3929444a8ce78aacde55f703\")\n",
    "\n",
    "# Fetch top news related to our stock\n",
    "query = \"JPMorgan Chase\"  \n",
    "articles = newsapi.get_everything(q=query, from_param=\"2024-01-01\", sort_by=\"relevancy\", language=\"en\")\n",
    "\n",
    "# Extract useful fields\n",
    "news_data = []\n",
    "for article in articles[\"articles\"]:\n",
    "    news_data.append([article[\"publishedAt\"], article[\"title\"], article[\"description\"]])\n",
    "\n",
    "# Convert to DataFrame\n",
    "df_news = pd.DataFrame(news_data, columns=[\"date\", \"headline\", \"description\"])\n",
    "\n",
    "# Save as CSV\n",
    "df_news.to_csv(\"C:/Users/dell/Documents/GitHub/ML-Mastery/Final_Projects/Stock_Price_Prediction/data/stock_prices.csv\", index=False)\n",
    "print(\" News data saved successfully!\")\n",
    "\n",
    "# Preview data\n",
    "print(df_news.head())\n"
   ]
  }
 ],
 "metadata": {
  "kernelspec": {
   "display_name": "Python 3 (ipykernel)",
   "language": "python",
   "name": "python3"
  },
  "language_info": {
   "codemirror_mode": {
    "name": "ipython",
    "version": 3
   },
   "file_extension": ".py",
   "mimetype": "text/x-python",
   "name": "python",
   "nbconvert_exporter": "python",
   "pygments_lexer": "ipython3",
   "version": "3.11.4"
  }
 },
 "nbformat": 4,
 "nbformat_minor": 5
}
